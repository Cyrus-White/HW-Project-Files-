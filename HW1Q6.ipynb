{
  "nbformat": 4,
  "nbformat_minor": 0,
  "metadata": {
    "colab": {
      "provenance": [],
      "authorship_tag": "ABX9TyN6WuQ49S6NI9ZJNHtYk4sW",
      "include_colab_link": true
    },
    "kernelspec": {
      "name": "python3",
      "display_name": "Python 3"
    },
    "language_info": {
      "name": "python"
    }
  },
  "cells": [
    {
      "cell_type": "markdown",
      "metadata": {
        "id": "view-in-github",
        "colab_type": "text"
      },
      "source": [
        "<a href=\"https://colab.research.google.com/github/Cyrus-White/HW-Project-Files-/blob/main/HW1Q6.ipynb\" target=\"_parent\"><img src=\"https://colab.research.google.com/assets/colab-badge.svg\" alt=\"Open In Colab\"/></a>"
      ]
    },
    {
      "cell_type": "code",
      "execution_count": 12,
      "metadata": {
        "colab": {
          "base_uri": "https://localhost:8080/",
          "height": 2922
        },
        "id": "6evLSRbr3CCf",
        "outputId": "bc2d3cd8-880c-4e2c-c07d-ba76ebef8f44"
      },
      "outputs": [
        {
          "output_type": "stream",
          "name": "stderr",
          "text": [
            "/usr/local/lib/python3.10/dist-packages/keras/src/layers/core/dense.py:87: UserWarning: Do not pass an `input_shape`/`input_dim` argument to a layer. When using Sequential models, prefer using an `Input(shape)` object as the first layer in the model instead.\n",
            "  super().__init__(activity_regularizer=activity_regularizer, **kwargs)\n"
          ]
        },
        {
          "output_type": "display_data",
          "data": {
            "text/plain": [
              "\u001b[1mModel: \"sequential_4\"\u001b[0m\n"
            ],
            "text/html": [
              "<pre style=\"white-space:pre;overflow-x:auto;line-height:normal;font-family:Menlo,'DejaVu Sans Mono',consolas,'Courier New',monospace\"><span style=\"font-weight: bold\">Model: \"sequential_4\"</span>\n",
              "</pre>\n"
            ]
          },
          "metadata": {}
        },
        {
          "output_type": "display_data",
          "data": {
            "text/plain": [
              "┏━━━━━━━━━━━━━━━━━━━━━━━━━━━━━━━━━━━━━━┳━━━━━━━━━━━━━━━━━━━━━━━━━━━━━┳━━━━━━━━━━━━━━━━━┓\n",
              "┃\u001b[1m \u001b[0m\u001b[1mLayer (type)                        \u001b[0m\u001b[1m \u001b[0m┃\u001b[1m \u001b[0m\u001b[1mOutput Shape               \u001b[0m\u001b[1m \u001b[0m┃\u001b[1m \u001b[0m\u001b[1m        Param #\u001b[0m\u001b[1m \u001b[0m┃\n",
              "┡━━━━━━━━━━━━━━━━━━━━━━━━━━━━━━━━━━━━━━╇━━━━━━━━━━━━━━━━━━━━━━━━━━━━━╇━━━━━━━━━━━━━━━━━┩\n",
              "│ dense_12 (\u001b[38;5;33mDense\u001b[0m)                     │ (\u001b[38;5;45mNone\u001b[0m, \u001b[38;5;34m6\u001b[0m)                   │              \u001b[38;5;34m12\u001b[0m │\n",
              "├──────────────────────────────────────┼─────────────────────────────┼─────────────────┤\n",
              "│ dense_13 (\u001b[38;5;33mDense\u001b[0m)                     │ (\u001b[38;5;45mNone\u001b[0m, \u001b[38;5;34m6\u001b[0m)                   │              \u001b[38;5;34m42\u001b[0m │\n",
              "├──────────────────────────────────────┼─────────────────────────────┼─────────────────┤\n",
              "│ dense_14 (\u001b[38;5;33mDense\u001b[0m)                     │ (\u001b[38;5;45mNone\u001b[0m, \u001b[38;5;34m1\u001b[0m)                   │               \u001b[38;5;34m7\u001b[0m │\n",
              "└──────────────────────────────────────┴─────────────────────────────┴─────────────────┘\n"
            ],
            "text/html": [
              "<pre style=\"white-space:pre;overflow-x:auto;line-height:normal;font-family:Menlo,'DejaVu Sans Mono',consolas,'Courier New',monospace\">┏━━━━━━━━━━━━━━━━━━━━━━━━━━━━━━━━━━━━━━┳━━━━━━━━━━━━━━━━━━━━━━━━━━━━━┳━━━━━━━━━━━━━━━━━┓\n",
              "┃<span style=\"font-weight: bold\"> Layer (type)                         </span>┃<span style=\"font-weight: bold\"> Output Shape                </span>┃<span style=\"font-weight: bold\">         Param # </span>┃\n",
              "┡━━━━━━━━━━━━━━━━━━━━━━━━━━━━━━━━━━━━━━╇━━━━━━━━━━━━━━━━━━━━━━━━━━━━━╇━━━━━━━━━━━━━━━━━┩\n",
              "│ dense_12 (<span style=\"color: #0087ff; text-decoration-color: #0087ff\">Dense</span>)                     │ (<span style=\"color: #00d7ff; text-decoration-color: #00d7ff\">None</span>, <span style=\"color: #00af00; text-decoration-color: #00af00\">6</span>)                   │              <span style=\"color: #00af00; text-decoration-color: #00af00\">12</span> │\n",
              "├──────────────────────────────────────┼─────────────────────────────┼─────────────────┤\n",
              "│ dense_13 (<span style=\"color: #0087ff; text-decoration-color: #0087ff\">Dense</span>)                     │ (<span style=\"color: #00d7ff; text-decoration-color: #00d7ff\">None</span>, <span style=\"color: #00af00; text-decoration-color: #00af00\">6</span>)                   │              <span style=\"color: #00af00; text-decoration-color: #00af00\">42</span> │\n",
              "├──────────────────────────────────────┼─────────────────────────────┼─────────────────┤\n",
              "│ dense_14 (<span style=\"color: #0087ff; text-decoration-color: #0087ff\">Dense</span>)                     │ (<span style=\"color: #00d7ff; text-decoration-color: #00d7ff\">None</span>, <span style=\"color: #00af00; text-decoration-color: #00af00\">1</span>)                   │               <span style=\"color: #00af00; text-decoration-color: #00af00\">7</span> │\n",
              "└──────────────────────────────────────┴─────────────────────────────┴─────────────────┘\n",
              "</pre>\n"
            ]
          },
          "metadata": {}
        },
        {
          "output_type": "display_data",
          "data": {
            "text/plain": [
              "\u001b[1m Total params: \u001b[0m\u001b[38;5;34m185\u001b[0m (744.00 B)\n"
            ],
            "text/html": [
              "<pre style=\"white-space:pre;overflow-x:auto;line-height:normal;font-family:Menlo,'DejaVu Sans Mono',consolas,'Courier New',monospace\"><span style=\"font-weight: bold\"> Total params: </span><span style=\"color: #00af00; text-decoration-color: #00af00\">185</span> (744.00 B)\n",
              "</pre>\n"
            ]
          },
          "metadata": {}
        },
        {
          "output_type": "display_data",
          "data": {
            "text/plain": [
              "\u001b[1m Trainable params: \u001b[0m\u001b[38;5;34m61\u001b[0m (244.00 B)\n"
            ],
            "text/html": [
              "<pre style=\"white-space:pre;overflow-x:auto;line-height:normal;font-family:Menlo,'DejaVu Sans Mono',consolas,'Courier New',monospace\"><span style=\"font-weight: bold\"> Trainable params: </span><span style=\"color: #00af00; text-decoration-color: #00af00\">61</span> (244.00 B)\n",
              "</pre>\n"
            ]
          },
          "metadata": {}
        },
        {
          "output_type": "display_data",
          "data": {
            "text/plain": [
              "\u001b[1m Non-trainable params: \u001b[0m\u001b[38;5;34m0\u001b[0m (0.00 B)\n"
            ],
            "text/html": [
              "<pre style=\"white-space:pre;overflow-x:auto;line-height:normal;font-family:Menlo,'DejaVu Sans Mono',consolas,'Courier New',monospace\"><span style=\"font-weight: bold\"> Non-trainable params: </span><span style=\"color: #00af00; text-decoration-color: #00af00\">0</span> (0.00 B)\n",
              "</pre>\n"
            ]
          },
          "metadata": {}
        },
        {
          "output_type": "display_data",
          "data": {
            "text/plain": [
              "\u001b[1m Optimizer params: \u001b[0m\u001b[38;5;34m124\u001b[0m (500.00 B)\n"
            ],
            "text/html": [
              "<pre style=\"white-space:pre;overflow-x:auto;line-height:normal;font-family:Menlo,'DejaVu Sans Mono',consolas,'Courier New',monospace\"><span style=\"font-weight: bold\"> Optimizer params: </span><span style=\"color: #00af00; text-decoration-color: #00af00\">124</span> (500.00 B)\n",
              "</pre>\n"
            ]
          },
          "metadata": {}
        },
        {
          "output_type": "stream",
          "name": "stdout",
          "text": [
            "\u001b[1m5/5\u001b[0m \u001b[32m━━━━━━━━━━━━━━━━━━━━\u001b[0m\u001b[37m\u001b[0m \u001b[1m0s\u001b[0m 10ms/step\n",
            "sepal Length: 5.10 => Predict Petal Length: 3.76, Actual Length: 1.40\n",
            "sepal Length: 4.90 => Predict Petal Length: 3.76, Actual Length: 1.40\n",
            "sepal Length: 4.70 => Predict Petal Length: 3.76, Actual Length: 1.30\n",
            "sepal Length: 4.60 => Predict Petal Length: 3.76, Actual Length: 1.50\n",
            "sepal Length: 5.00 => Predict Petal Length: 3.76, Actual Length: 1.40\n",
            "sepal Length: 5.40 => Predict Petal Length: 3.76, Actual Length: 1.70\n",
            "sepal Length: 4.60 => Predict Petal Length: 3.76, Actual Length: 1.40\n",
            "sepal Length: 5.00 => Predict Petal Length: 3.76, Actual Length: 1.50\n",
            "sepal Length: 4.40 => Predict Petal Length: 3.76, Actual Length: 1.40\n",
            "sepal Length: 4.90 => Predict Petal Length: 3.76, Actual Length: 1.50\n",
            "sepal Length: 5.40 => Predict Petal Length: 3.76, Actual Length: 1.50\n",
            "sepal Length: 4.80 => Predict Petal Length: 3.76, Actual Length: 1.60\n",
            "sepal Length: 4.80 => Predict Petal Length: 3.76, Actual Length: 1.40\n",
            "sepal Length: 4.30 => Predict Petal Length: 3.76, Actual Length: 1.10\n",
            "sepal Length: 5.80 => Predict Petal Length: 3.76, Actual Length: 1.20\n",
            "sepal Length: 5.70 => Predict Petal Length: 3.76, Actual Length: 1.50\n",
            "sepal Length: 5.40 => Predict Petal Length: 3.76, Actual Length: 1.30\n",
            "sepal Length: 5.10 => Predict Petal Length: 3.76, Actual Length: 1.40\n",
            "sepal Length: 5.70 => Predict Petal Length: 3.76, Actual Length: 1.70\n",
            "sepal Length: 5.10 => Predict Petal Length: 3.76, Actual Length: 1.50\n",
            "sepal Length: 5.40 => Predict Petal Length: 3.76, Actual Length: 1.70\n",
            "sepal Length: 5.10 => Predict Petal Length: 3.76, Actual Length: 1.50\n",
            "sepal Length: 4.60 => Predict Petal Length: 3.76, Actual Length: 1.00\n",
            "sepal Length: 5.10 => Predict Petal Length: 3.76, Actual Length: 1.70\n",
            "sepal Length: 4.80 => Predict Petal Length: 3.76, Actual Length: 1.90\n",
            "sepal Length: 5.00 => Predict Petal Length: 3.76, Actual Length: 1.60\n",
            "sepal Length: 5.00 => Predict Petal Length: 3.76, Actual Length: 1.60\n",
            "sepal Length: 5.20 => Predict Petal Length: 3.76, Actual Length: 1.50\n",
            "sepal Length: 5.20 => Predict Petal Length: 3.76, Actual Length: 1.40\n",
            "sepal Length: 4.70 => Predict Petal Length: 3.76, Actual Length: 1.60\n",
            "sepal Length: 4.80 => Predict Petal Length: 3.76, Actual Length: 1.60\n",
            "sepal Length: 5.40 => Predict Petal Length: 3.76, Actual Length: 1.50\n",
            "sepal Length: 5.20 => Predict Petal Length: 3.76, Actual Length: 1.50\n",
            "sepal Length: 5.50 => Predict Petal Length: 3.76, Actual Length: 1.40\n",
            "sepal Length: 4.90 => Predict Petal Length: 3.76, Actual Length: 1.50\n",
            "sepal Length: 5.00 => Predict Petal Length: 3.76, Actual Length: 1.20\n",
            "sepal Length: 5.50 => Predict Petal Length: 3.76, Actual Length: 1.30\n",
            "sepal Length: 4.90 => Predict Petal Length: 3.76, Actual Length: 1.40\n",
            "sepal Length: 4.40 => Predict Petal Length: 3.76, Actual Length: 1.30\n",
            "sepal Length: 5.10 => Predict Petal Length: 3.76, Actual Length: 1.50\n",
            "sepal Length: 5.00 => Predict Petal Length: 3.76, Actual Length: 1.30\n",
            "sepal Length: 4.50 => Predict Petal Length: 3.76, Actual Length: 1.30\n",
            "sepal Length: 4.40 => Predict Petal Length: 3.76, Actual Length: 1.30\n",
            "sepal Length: 5.00 => Predict Petal Length: 3.76, Actual Length: 1.60\n",
            "sepal Length: 5.10 => Predict Petal Length: 3.76, Actual Length: 1.90\n",
            "sepal Length: 4.80 => Predict Petal Length: 3.76, Actual Length: 1.40\n",
            "sepal Length: 5.10 => Predict Petal Length: 3.76, Actual Length: 1.60\n",
            "sepal Length: 4.60 => Predict Petal Length: 3.76, Actual Length: 1.40\n",
            "sepal Length: 5.30 => Predict Petal Length: 3.76, Actual Length: 1.50\n",
            "sepal Length: 5.00 => Predict Petal Length: 3.76, Actual Length: 1.40\n",
            "sepal Length: 7.00 => Predict Petal Length: 3.76, Actual Length: 4.70\n",
            "sepal Length: 6.40 => Predict Petal Length: 3.76, Actual Length: 4.50\n",
            "sepal Length: 6.90 => Predict Petal Length: 3.76, Actual Length: 4.90\n",
            "sepal Length: 5.50 => Predict Petal Length: 3.76, Actual Length: 4.00\n",
            "sepal Length: 6.50 => Predict Petal Length: 3.76, Actual Length: 4.60\n",
            "sepal Length: 5.70 => Predict Petal Length: 3.76, Actual Length: 4.50\n",
            "sepal Length: 6.30 => Predict Petal Length: 3.76, Actual Length: 4.70\n",
            "sepal Length: 4.90 => Predict Petal Length: 3.76, Actual Length: 3.30\n",
            "sepal Length: 6.60 => Predict Petal Length: 3.76, Actual Length: 4.60\n",
            "sepal Length: 5.20 => Predict Petal Length: 3.76, Actual Length: 3.90\n",
            "sepal Length: 5.00 => Predict Petal Length: 3.76, Actual Length: 3.50\n",
            "sepal Length: 5.90 => Predict Petal Length: 3.76, Actual Length: 4.20\n",
            "sepal Length: 6.00 => Predict Petal Length: 3.76, Actual Length: 4.00\n",
            "sepal Length: 6.10 => Predict Petal Length: 3.76, Actual Length: 4.70\n",
            "sepal Length: 5.60 => Predict Petal Length: 3.76, Actual Length: 3.60\n",
            "sepal Length: 6.70 => Predict Petal Length: 3.76, Actual Length: 4.40\n",
            "sepal Length: 5.60 => Predict Petal Length: 3.76, Actual Length: 4.50\n",
            "sepal Length: 5.80 => Predict Petal Length: 3.76, Actual Length: 4.10\n",
            "sepal Length: 6.20 => Predict Petal Length: 3.76, Actual Length: 4.50\n",
            "sepal Length: 5.60 => Predict Petal Length: 3.76, Actual Length: 3.90\n",
            "sepal Length: 5.90 => Predict Petal Length: 3.76, Actual Length: 4.80\n",
            "sepal Length: 6.10 => Predict Petal Length: 3.76, Actual Length: 4.00\n",
            "sepal Length: 6.30 => Predict Petal Length: 3.76, Actual Length: 4.90\n",
            "sepal Length: 6.10 => Predict Petal Length: 3.76, Actual Length: 4.70\n",
            "sepal Length: 6.40 => Predict Petal Length: 3.76, Actual Length: 4.30\n",
            "sepal Length: 6.60 => Predict Petal Length: 3.76, Actual Length: 4.40\n",
            "sepal Length: 6.80 => Predict Petal Length: 3.76, Actual Length: 4.80\n",
            "sepal Length: 6.70 => Predict Petal Length: 3.76, Actual Length: 5.00\n",
            "sepal Length: 6.00 => Predict Petal Length: 3.76, Actual Length: 4.50\n",
            "sepal Length: 5.70 => Predict Petal Length: 3.76, Actual Length: 3.50\n",
            "sepal Length: 5.50 => Predict Petal Length: 3.76, Actual Length: 3.80\n",
            "sepal Length: 5.50 => Predict Petal Length: 3.76, Actual Length: 3.70\n",
            "sepal Length: 5.80 => Predict Petal Length: 3.76, Actual Length: 3.90\n",
            "sepal Length: 6.00 => Predict Petal Length: 3.76, Actual Length: 5.10\n",
            "sepal Length: 5.40 => Predict Petal Length: 3.76, Actual Length: 4.50\n",
            "sepal Length: 6.00 => Predict Petal Length: 3.76, Actual Length: 4.50\n",
            "sepal Length: 6.70 => Predict Petal Length: 3.76, Actual Length: 4.70\n",
            "sepal Length: 6.30 => Predict Petal Length: 3.76, Actual Length: 4.40\n",
            "sepal Length: 5.60 => Predict Petal Length: 3.76, Actual Length: 4.10\n",
            "sepal Length: 5.50 => Predict Petal Length: 3.76, Actual Length: 4.00\n",
            "sepal Length: 5.50 => Predict Petal Length: 3.76, Actual Length: 4.40\n",
            "sepal Length: 6.10 => Predict Petal Length: 3.76, Actual Length: 4.60\n",
            "sepal Length: 5.80 => Predict Petal Length: 3.76, Actual Length: 4.00\n",
            "sepal Length: 5.00 => Predict Petal Length: 3.76, Actual Length: 3.30\n",
            "sepal Length: 5.60 => Predict Petal Length: 3.76, Actual Length: 4.20\n",
            "sepal Length: 5.70 => Predict Petal Length: 3.76, Actual Length: 4.20\n",
            "sepal Length: 5.70 => Predict Petal Length: 3.76, Actual Length: 4.20\n",
            "sepal Length: 6.20 => Predict Petal Length: 3.76, Actual Length: 4.30\n",
            "sepal Length: 5.10 => Predict Petal Length: 3.76, Actual Length: 3.00\n",
            "sepal Length: 5.70 => Predict Petal Length: 3.76, Actual Length: 4.10\n",
            "sepal Length: 6.30 => Predict Petal Length: 3.76, Actual Length: 6.00\n",
            "sepal Length: 5.80 => Predict Petal Length: 3.76, Actual Length: 5.10\n",
            "sepal Length: 7.10 => Predict Petal Length: 3.76, Actual Length: 5.90\n",
            "sepal Length: 6.30 => Predict Petal Length: 3.76, Actual Length: 5.60\n",
            "sepal Length: 6.50 => Predict Petal Length: 3.76, Actual Length: 5.80\n",
            "sepal Length: 7.60 => Predict Petal Length: 3.76, Actual Length: 6.60\n",
            "sepal Length: 4.90 => Predict Petal Length: 3.76, Actual Length: 4.50\n",
            "sepal Length: 7.30 => Predict Petal Length: 3.76, Actual Length: 6.30\n",
            "sepal Length: 6.70 => Predict Petal Length: 3.76, Actual Length: 5.80\n",
            "sepal Length: 7.20 => Predict Petal Length: 3.76, Actual Length: 6.10\n",
            "sepal Length: 6.50 => Predict Petal Length: 3.76, Actual Length: 5.10\n",
            "sepal Length: 6.40 => Predict Petal Length: 3.76, Actual Length: 5.30\n",
            "sepal Length: 6.80 => Predict Petal Length: 3.76, Actual Length: 5.50\n",
            "sepal Length: 5.70 => Predict Petal Length: 3.76, Actual Length: 5.00\n",
            "sepal Length: 5.80 => Predict Petal Length: 3.76, Actual Length: 5.10\n",
            "sepal Length: 6.40 => Predict Petal Length: 3.76, Actual Length: 5.30\n",
            "sepal Length: 6.50 => Predict Petal Length: 3.76, Actual Length: 5.50\n",
            "sepal Length: 7.70 => Predict Petal Length: 3.76, Actual Length: 6.70\n",
            "sepal Length: 7.70 => Predict Petal Length: 3.76, Actual Length: 6.90\n",
            "sepal Length: 6.00 => Predict Petal Length: 3.76, Actual Length: 5.00\n",
            "sepal Length: 6.90 => Predict Petal Length: 3.76, Actual Length: 5.70\n",
            "sepal Length: 5.60 => Predict Petal Length: 3.76, Actual Length: 4.90\n",
            "sepal Length: 7.70 => Predict Petal Length: 3.76, Actual Length: 6.70\n",
            "sepal Length: 6.30 => Predict Petal Length: 3.76, Actual Length: 4.90\n",
            "sepal Length: 6.70 => Predict Petal Length: 3.76, Actual Length: 5.70\n",
            "sepal Length: 7.20 => Predict Petal Length: 3.76, Actual Length: 6.00\n",
            "sepal Length: 6.20 => Predict Petal Length: 3.76, Actual Length: 4.80\n",
            "sepal Length: 6.10 => Predict Petal Length: 3.76, Actual Length: 4.90\n",
            "sepal Length: 6.40 => Predict Petal Length: 3.76, Actual Length: 5.60\n",
            "sepal Length: 7.20 => Predict Petal Length: 3.76, Actual Length: 5.80\n",
            "sepal Length: 7.40 => Predict Petal Length: 3.76, Actual Length: 6.10\n",
            "sepal Length: 7.90 => Predict Petal Length: 3.76, Actual Length: 6.40\n",
            "sepal Length: 6.40 => Predict Petal Length: 3.76, Actual Length: 5.60\n",
            "sepal Length: 6.30 => Predict Petal Length: 3.76, Actual Length: 5.10\n",
            "sepal Length: 6.10 => Predict Petal Length: 3.76, Actual Length: 5.60\n",
            "sepal Length: 7.70 => Predict Petal Length: 3.76, Actual Length: 6.10\n",
            "sepal Length: 6.30 => Predict Petal Length: 3.76, Actual Length: 5.60\n",
            "sepal Length: 6.40 => Predict Petal Length: 3.76, Actual Length: 5.50\n",
            "sepal Length: 6.00 => Predict Petal Length: 3.76, Actual Length: 4.80\n",
            "sepal Length: 6.90 => Predict Petal Length: 3.76, Actual Length: 5.40\n",
            "sepal Length: 6.70 => Predict Petal Length: 3.76, Actual Length: 5.60\n",
            "sepal Length: 6.90 => Predict Petal Length: 3.76, Actual Length: 5.10\n",
            "sepal Length: 5.80 => Predict Petal Length: 3.76, Actual Length: 5.10\n",
            "sepal Length: 6.80 => Predict Petal Length: 3.76, Actual Length: 5.90\n",
            "sepal Length: 6.70 => Predict Petal Length: 3.76, Actual Length: 5.70\n",
            "sepal Length: 6.70 => Predict Petal Length: 3.76, Actual Length: 5.20\n",
            "sepal Length: 6.30 => Predict Petal Length: 3.76, Actual Length: 5.00\n",
            "sepal Length: 6.50 => Predict Petal Length: 3.76, Actual Length: 5.20\n",
            "sepal Length: 6.20 => Predict Petal Length: 3.76, Actual Length: 5.40\n",
            "sepal Length: 5.90 => Predict Petal Length: 3.76, Actual Length: 5.10\n"
          ]
        }
      ],
      "source": [
        "import tensorflow as tf\n",
        "from numpy import loadtxt\n",
        "from keras.models import Sequential\n",
        "from keras.layers import Dense\n",
        "from keras import optimizers\n",
        "from tensorflow.python.keras.optimizers import *\n",
        "import numpy as np\n",
        "import pandas as pd\n",
        "\n",
        "from sklearn.datasets import load_iris\n",
        "\n",
        "data = load_iris()\n",
        "\n",
        "#create dataframe from easier manipulation\n",
        "df = pd.DataFrame(data.data, columns=data.feature_names)\n",
        "\n",
        "#define input and output\n",
        "x = df.iloc[:, 0].values.reshape(-1,1) # sepal length\n",
        "y = df.iloc[:, 2].values.reshape(-1,1) # petal length\n",
        "\n",
        "#define nueral network model\n",
        "model = Sequential()\n",
        "model.add(Dense(6,input_dim=1,activation='relu'))\n",
        "model.add(Dense(6,activation='relu'))\n",
        "model.add(Dense(1))\n",
        "\n",
        "#compile the model\n",
        "opt = optimizers.Adam(learning_rate=0.001)\n",
        "mse = tf.keras.losses.MeanSquaredError(reduction=tf.keras.losses.Reduction.SUM)\n",
        "model.compile(loss=mse, optimizer=opt)\n",
        "\n",
        "model.fit(x,y,epochs=2000,batch_size=10, verbose=0)\n",
        "model.summary()\n",
        "\n",
        "predictions = model.predict(x)\n",
        "for i in range(len(x)):\n",
        "    print(f\"sepal Length: {x[i][0]:.2f} => Predict Petal Length: {predictions [i][0]:.2f}, Actual Length: {y[i][0]:.2f}\")\n",
        "\n"
      ]
    }
  ]
}